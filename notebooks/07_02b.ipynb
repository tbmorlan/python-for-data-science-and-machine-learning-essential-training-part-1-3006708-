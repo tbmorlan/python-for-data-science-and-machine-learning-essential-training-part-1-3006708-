{
 "cells": [
  {
   "cell_type": "markdown",
   "id": "d73346ef-024b-4e66-b8bb-8521e36d8aa0",
   "metadata": {},
   "source": [
    "## Python requests for automating data collection."
   ]
  },
  {
   "cell_type": "code",
   "execution_count": 1,
   "id": "3731af81-600b-4560-8e71-92693df00f7f",
   "metadata": {},
   "outputs": [],
   "source": []
  },
  {
   "cell_type": "markdown",
   "id": "29d169cb-fe50-41c3-a145-3af10473fcc4",
   "metadata": {},
   "source": [
    "### Headers"
   ]
  },
  {
   "cell_type": "markdown",
   "id": "799bc8a5-5b9f-4c93-ad74-2d56a4de8bc5",
   "metadata": {},
   "source": [
    "### Content Types"
   ]
  },
  {
   "cell_type": "markdown",
   "id": "cd63c2df-ecca-48e6-a84d-1275d5df3d55",
   "metadata": {},
   "source": [
    "### Body/Content"
   ]
  }
 ],
 "metadata": {
  "kernelspec": {
   "display_name": "Python 3",
   "language": "python",
   "name": "python3"
  },
  "language_info": {
   "codemirror_mode": {
    "name": "ipython",
    "version": 3
   },
   "file_extension": ".py",
   "mimetype": "text/x-python",
   "name": "python",
   "nbconvert_exporter": "python",
   "pygments_lexer": "ipython3",
   "version": "3.8.8"
  }
 },
 "nbformat": 4,
 "nbformat_minor": 5
}
