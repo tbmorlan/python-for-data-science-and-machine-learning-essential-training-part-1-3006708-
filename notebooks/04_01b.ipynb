{
 "cells": [
  {
   "cell_type": "markdown",
   "id": "51445501-72bb-48f0-bfb8-715edb50087e",
   "metadata": {},
   "source": []
  },
  {
   "cell_type": "code",
   "execution_count": null,
   "metadata": {},
   "outputs": [],
   "source": []
  },
  {
   "cell_type": "code",
   "execution_count": null,
   "metadata": {},
   "outputs": [],
   "source": []
  },
  {
   "cell_type": "markdown",
   "metadata": {},
   "source": [
    "### Matplotlib's Bar Chart"
   ]
  },
  {
   "cell_type": "markdown",
   "id": "7359f9c0-0051-48c5-91fc-5185eae9bfd0",
   "metadata": {},
   "source": [
    "### Line Plot Matplotlib"
   ]
  },
  {
   "cell_type": "markdown",
   "id": "f1c8460d-7689-406f-a6ac-2720d8cb867d",
   "metadata": {},
   "source": [
    "### Line Plot Seaborn"
   ]
  },
  {
   "cell_type": "markdown",
   "id": "16d65d0b-34a9-4a98-8550-4cdc0dc66c25",
   "metadata": {},
   "source": [
    "### Pie Chart Matplotlib"
   ]
  },
  {
   "cell_type": "markdown",
   "id": "4be3dfcc-1d4a-4b7e-bc57-427280da980e",
   "metadata": {},
   "source": [
    "### Pie Chart Seaborn"
   ]
  }
 ],
 "metadata": {
  "kernelspec": {
   "display_name": "Python 3",
   "language": "python",
   "name": "python3"
  },
  "language_info": {
   "codemirror_mode": {
    "name": "ipython",
    "version": 3
   },
   "file_extension": ".py",
   "mimetype": "text/x-python",
   "name": "python",
   "nbconvert_exporter": "python",
   "pygments_lexer": "ipython3",
   "version": "3.8.8"
  }
 },
 "nbformat": 4,
 "nbformat_minor": 5
}
