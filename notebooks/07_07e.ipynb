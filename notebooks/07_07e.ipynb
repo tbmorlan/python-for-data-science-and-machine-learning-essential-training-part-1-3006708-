{
 "cells": [
  {
   "cell_type": "markdown",
   "id": "7252adbf-4476-49ed-b1bb-c51604a2e729",
   "metadata": {},
   "source": [
    "## Asynchronous scraping"
   ]
  },
  {
   "cell_type": "code",
   "execution_count": 11,
   "id": "74ea2bda",
   "metadata": {},
   "outputs": [
    {
     "name": "stdout",
     "output_type": "stream",
     "text": [
      "Requirement already satisfied: aiohttp in /usr/local/python/3.10.13/lib/python3.10/site-packages (3.9.1)\n",
      "Requirement already satisfied: attrs>=17.3.0 in /home/codespace/.local/lib/python3.10/site-packages (from aiohttp) (23.1.0)\n",
      "Requirement already satisfied: multidict<7.0,>=4.5 in /usr/local/python/3.10.13/lib/python3.10/site-packages (from aiohttp) (6.0.4)\n",
      "Requirement already satisfied: yarl<2.0,>=1.0 in /usr/local/python/3.10.13/lib/python3.10/site-packages (from aiohttp) (1.9.4)\n",
      "Requirement already satisfied: frozenlist>=1.1.1 in /usr/local/python/3.10.13/lib/python3.10/site-packages (from aiohttp) (1.4.0)\n",
      "Requirement already satisfied: aiosignal>=1.1.2 in /usr/local/python/3.10.13/lib/python3.10/site-packages (from aiohttp) (1.3.1)\n",
      "Requirement already satisfied: async-timeout<5.0,>=4.0 in /usr/local/python/3.10.13/lib/python3.10/site-packages (from aiohttp) (4.0.3)\n",
      "Requirement already satisfied: idna>=2.0 in /home/codespace/.local/lib/python3.10/site-packages (from yarl<2.0,>=1.0->aiohttp) (3.4)\n",
      "Note: you may need to restart the kernel to use updated packages.\n"
     ]
    }
   ],
   "source": [
    "pip install aiohttp"
   ]
  },
  {
   "cell_type": "code",
   "execution_count": 12,
   "id": "c5ec3398",
   "metadata": {},
   "outputs": [
    {
     "name": "stdout",
     "output_type": "stream",
     "text": [
      "Collecting asyncio\n",
      "  Downloading asyncio-3.4.3-py3-none-any.whl (101 kB)\n",
      "\u001b[2K     \u001b[90m━━━━━━━━━━━━━━━━━━━━━━━━━━━━━━━━━━━━━━━\u001b[0m \u001b[32m101.8/101.8 kB\u001b[0m \u001b[31m2.4 MB/s\u001b[0m eta \u001b[36m0:00:00\u001b[0ma \u001b[36m0:00:01\u001b[0m\n",
      "\u001b[?25hInstalling collected packages: asyncio\n",
      "Successfully installed asyncio-3.4.3\n",
      "Note: you may need to restart the kernel to use updated packages.\n"
     ]
    }
   ],
   "source": [
    "pip install asyncio"
   ]
  },
  {
   "cell_type": "code",
   "execution_count": 13,
   "id": "cb191576-cfe0-4823-aeb8-2ce0ed7a1cb3",
   "metadata": {},
   "outputs": [],
   "source": [
    "import aiohttp\n",
    "import asyncio\n",
    "from bs4 import BeautifulSoup\n",
    "import csv\n",
    "import re"
   ]
  },
  {
   "cell_type": "code",
   "execution_count": 14,
   "id": "eea5fbf1",
   "metadata": {},
   "outputs": [
    {
     "name": "stdout",
     "output_type": "stream",
     "text": [
      "Requirement already satisfied: nest-asyncio in /home/codespace/.local/lib/python3.10/site-packages (1.5.8)\n"
     ]
    }
   ],
   "source": [
    "!pip install nest-asyncio\n",
    "import nest_asyncio\n",
    "nest_asyncio.apply()"
   ]
  },
  {
   "cell_type": "code",
   "execution_count": 46,
   "id": "fa025c7d",
   "metadata": {},
   "outputs": [],
   "source": [
    "async def scrap_and_save_links(text):\n",
    "  soup = BeautifulSoup(text, 'html.parser')\n",
    "  file = open('csv_file', 'a', newline='')\n",
    "  writer= csv.writer(file, delimiter=',')\n",
    "  for link in soup.findAll('a', attrs={'href': re.compile('^http')}):\n",
    "    link = link.get('href')\n",
    "    writer.writerow([link])\n",
    "  file.close()"
   ]
  },
  {
   "cell_type": "code",
   "execution_count": 47,
   "id": "c2176161",
   "metadata": {},
   "outputs": [],
   "source": [
    "async def fetch(session, url):\n",
    "   try:\n",
    "      async with session.get(url) as response:\n",
    "         text= await response.text()\n",
    "         task = asyncio.create_task(scrap_and_save_links(text))\n",
    "         await task\n",
    "   except Exception as e:\n",
    "      print(str(e))"
   ]
  },
  {
   "cell_type": "code",
   "execution_count": 48,
   "id": "26ead7cb",
   "metadata": {},
   "outputs": [],
   "source": [
    "async def scrap(urls):\n",
    "  tasks = []\n",
    "  async with aiohttp.ClientSession() as session:\n",
    "    for url in urls:\n",
    "      tasks.append(fetch(session,url))\n",
    "    await asyncio.gather(*tasks)"
   ]
  },
  {
   "cell_type": "code",
   "execution_count": 49,
   "id": "039cea48",
   "metadata": {},
   "outputs": [],
   "source": [
    "urls = ['https://analytics.usa.gov/', 'https://www.python.org/', 'https://www.linkedin.com/']\n",
    "asyncio.run(scrap(urls=urls))"
   ]
  },
  {
   "cell_type": "code",
   "execution_count": null,
   "id": "e2ba7d90",
   "metadata": {},
   "outputs": [],
   "source": []
  }
 ],
 "metadata": {
  "kernelspec": {
   "display_name": "Python 3",
   "language": "python",
   "name": "python3"
  },
  "language_info": {
   "codemirror_mode": {
    "name": "ipython",
    "version": 3
   },
   "file_extension": ".py",
   "mimetype": "text/x-python",
   "name": "python",
   "nbconvert_exporter": "python",
   "pygments_lexer": "ipython3",
   "version": "3.10.13"
  }
 },
 "nbformat": 4,
 "nbformat_minor": 5
}
