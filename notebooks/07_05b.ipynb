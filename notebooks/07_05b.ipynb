{
 "cells": [
  {
   "cell_type": "markdown",
   "metadata": {},
   "source": [
    "## Data parsing"
   ]
  },
  {
   "cell_type": "code",
   "execution_count": 1,
   "metadata": {},
   "outputs": [],
   "source": [
    "from bs4 import BeautifulSoup\n",
    "\n",
    "import urllib\n",
    "import urllib.request\n",
    "import re"
   ]
  },
  {
   "cell_type": "markdown",
   "metadata": {},
   "source": [
    "### Parsing your data"
   ]
  },
  {
   "cell_type": "markdown",
   "metadata": {},
   "source": [
    "### Getting data from a parse tree"
   ]
  },
  {
   "cell_type": "markdown",
   "metadata": {},
   "source": [
    "### Searching and retrieving data from a parse tree\n",
    "\n",
    "#### Introducing the 'find_all()' method\n",
    "The find_all() method searchs a tag and its descendants to retrieve tags or strings that match your filters. \n",
    "\n",
    "#### Search and filtering a parse tree\n",
    "There are many different ways to access tags and strings within a parse tree. In this segment I am going to show you the following methods:\n",
    "- Name argument - Search for tags by filtering based on tag name\n",
    "- Keyword argument - Search for tags by filtering based on tag attribute\n",
    "- String argument - Search for tags by filtering based on an exact string\n",
    "- Lists - Search for tags by filtering based on lists\n",
    "- Boolean values- Search for tags by filtering based on a Boolean value\n",
    "- Strings - Search for weblinks by filtering based on string objects\n",
    "- Regular expressions - Search for tags and strings by filtering based on regular expression\n",
    "\n",
    "You can pass any of these argument into the find_all() method to use as filters and return either strings or tags.\n",
    "\n",
    "##### Retrieving tags by filtering with name arguments\n",
    "- Name argument - Search for tags by filtering based on tag name"
   ]
  },
  {
   "cell_type": "markdown",
   "metadata": {},
   "source": [
    "##### Retrieving tags by filtering with keyword arguments\n",
    "- Keyword argument - Search for tags by filtering based on tag attribute"
   ]
  },
  {
   "cell_type": "markdown",
   "metadata": {},
   "source": [
    "##### Retrieving tags by filtering with string arguments\n",
    "- String argument - Search for tags by filtering based on an exact string"
   ]
  },
  {
   "cell_type": "markdown",
   "metadata": {},
   "source": [
    "##### Retrieving tags by filtering with list objects\n",
    "- Lists - Search for tags by filtering based on lists"
   ]
  },
  {
   "cell_type": "markdown",
   "metadata": {},
   "source": [
    "##### Retrieving tags by filtering with regular expressions\n",
    "- Regular expressions - Search for tags and strings by filtering based on regular expression"
   ]
  },
  {
   "cell_type": "markdown",
   "metadata": {},
   "source": [
    "##### Retrieving tags by filtering with a Boolean value\n",
    "- Boolean values- Search for tags by filtering based on a Boolean value"
   ]
  },
  {
   "cell_type": "markdown",
   "metadata": {},
   "source": [
    "##### Retrieving weblinks by filtering with string objects\n",
    "- Strings - Search for weblinks by filtering based on string objects"
   ]
  },
  {
   "cell_type": "markdown",
   "metadata": {},
   "source": [
    "##### Retrieving strings by filtering with regular expressions\n",
    "- Regular expressions - Search for tags and strings by filtering based on regular expression"
   ]
  }
 ],
 "metadata": {
  "kernelspec": {
   "display_name": "Python 3",
   "language": "python",
   "name": "python3"
  },
  "language_info": {
   "codemirror_mode": {
    "name": "ipython",
    "version": 3
   },
   "file_extension": ".py",
   "mimetype": "text/x-python",
   "name": "python",
   "nbconvert_exporter": "python",
   "pygments_lexer": "ipython3",
   "version": "3.8.8"
  }
 },
 "nbformat": 4,
 "nbformat_minor": 1
}
