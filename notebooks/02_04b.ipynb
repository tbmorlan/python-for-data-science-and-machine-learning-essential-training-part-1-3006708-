{
 "cells": [
  {
   "cell_type": "markdown",
   "id": "c9327e33-5afa-4ffb-aca9-6bdc963ef9ff",
   "metadata": {},
   "source": [
    "## Working with Missing Data in Pandas"
   ]
  },
  {
   "cell_type": "code",
   "execution_count": 1,
   "id": "5be0cfbf-e779-42b3-8bd6-f3dd46888ebb",
   "metadata": {},
   "outputs": [],
   "source": [
    "import numpy as np\n",
    "import pandas as pd\n",
    "\n",
    "from pandas import DataFrame"
   ]
  },
  {
   "cell_type": "markdown",
   "id": "61bbc7e0-5198-4609-a66a-d4b437606dac",
   "metadata": {},
   "source": [
    "### Filling missing values using fillna(), replace() and interpolate()"
   ]
  }
 ],
 "metadata": {
  "kernelspec": {
   "display_name": "Python 3",
   "language": "python",
   "name": "python3"
  },
  "language_info": {
   "codemirror_mode": {
    "name": "ipython",
    "version": 3
   },
   "file_extension": ".py",
   "mimetype": "text/x-python",
   "name": "python",
   "nbconvert_exporter": "python",
   "pygments_lexer": "ipython3",
   "version": "3.10.8"
  }
 },
 "nbformat": 4,
 "nbformat_minor": 5
}
