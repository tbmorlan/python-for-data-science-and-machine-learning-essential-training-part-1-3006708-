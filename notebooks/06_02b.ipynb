{
 "cells": [
  {
   "cell_type": "markdown",
   "id": "5d519b84-6889-4827-83d8-e99dbb2ec5df",
   "metadata": {},
   "source": [
    "## Transforming Dataset Distributions"
   ]
  },
  {
   "cell_type": "code",
   "execution_count": 3,
   "id": "868ec360-501a-4032-a6b7-c7fac40a78df",
   "metadata": {},
   "outputs": [],
   "source": [
    "import numpy as np\n",
    "import pandas as pd\n",
    "\n",
    "import matplotlib.pyplot as plt\n",
    "from sklearn.preprocessing import MinMaxScaler, scale"
   ]
  },
  {
   "cell_type": "code",
   "execution_count": null,
   "id": "a67f7690",
   "metadata": {},
   "outputs": [],
   "source": [
    "address = '/workspaces/python-for-data-science-and-machine-learning-essential-training-part-1-3006708/data/mtcars.csv'\n",
    "\n",
    "dataset = pd.read_csv(address)\n",
    "dataset.head()"
   ]
  },
  {
   "cell_type": "markdown",
   "id": "4c753f3f-ea35-4502-a099-168880862c3f",
   "metadata": {},
   "source": [
    "### Normalization"
   ]
  },
  {
   "cell_type": "markdown",
   "id": "496a3803-34bb-4ddc-9dc5-5fca9b9b0fd1",
   "metadata": {},
   "source": [
    "### Standardization"
   ]
  }
 ],
 "metadata": {
  "kernelspec": {
   "display_name": "Python 3",
   "language": "python",
   "name": "python3"
  },
  "language_info": {
   "codemirror_mode": {
    "name": "ipython",
    "version": 3
   },
   "file_extension": ".py",
   "mimetype": "text/x-python",
   "name": "python",
   "nbconvert_exporter": "python",
   "pygments_lexer": "ipython3",
   "version": "3.8.8"
  }
 },
 "nbformat": 4,
 "nbformat_minor": 5
}
