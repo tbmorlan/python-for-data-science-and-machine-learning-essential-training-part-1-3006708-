{
 "cells": [
  {
   "cell_type": "markdown",
   "id": "8ab9487e-00e3-47e2-9368-9a5a6f112a65",
   "metadata": {},
   "source": [
    "## Cleaning and treating categorical variables"
   ]
  },
  {
   "cell_type": "code",
   "execution_count": 1,
   "id": "6ddc4c2e-8b01-449d-b823-9394f1f96b1f",
   "metadata": {},
   "outputs": [],
   "source": [
    "import numpy as np\n",
    "from pandas import DataFrame\n",
    "\n",
    "from sklearn.preprocessing import LabelEncoder, OneHotEncoder"
   ]
  },
  {
   "cell_type": "code",
   "execution_count": null,
   "id": "1bef47b2",
   "metadata": {},
   "outputs": [],
   "source": [
    "data = {'names':['steve', 'john', 'richard', 'sarah', 'randy', 'micheal', 'julie'],\n",
    "'age':[20, 22, 20, 21, 24, 23, 22],\n",
    "'gender':['Male', 'Male', np.nan, 'Female', np.nan, 'Male', np.nan],\n",
    "'rank':[2, 1, 4, 5, 3, 7, 6]}"
   ]
  },
  {
   "cell_type": "code",
   "execution_count": null,
   "id": "385b7880",
   "metadata": {},
   "outputs": [],
   "source": []
  },
  {
   "cell_type": "markdown",
   "id": "1321636f-e6e6-4c6e-9756-e0b47dcc56a9",
   "metadata": {},
   "source": [
    "### Label Encoding"
   ]
  },
  {
   "cell_type": "markdown",
   "id": "46c8b54e-bc23-4ef7-95a3-8b3dac69b324",
   "metadata": {},
   "source": [
    "### One Hot Encoder"
   ]
  }
 ],
 "metadata": {
  "kernelspec": {
   "display_name": "Python 3",
   "language": "python",
   "name": "python3"
  },
  "language_info": {
   "codemirror_mode": {
    "name": "ipython",
    "version": 3
   },
   "file_extension": ".py",
   "mimetype": "text/x-python",
   "name": "python",
   "nbconvert_exporter": "python",
   "pygments_lexer": "ipython3",
   "version": "3.8.8"
  }
 },
 "nbformat": 4,
 "nbformat_minor": 5
}
